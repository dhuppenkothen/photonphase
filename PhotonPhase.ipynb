{
 "metadata": {
  "name": "",
  "signature": "sha256:6d4e38cc264a858ff2c729a84a64a69a440534c6fa825ee0447c554e54b032c2"
 },
 "nbformat": 3,
 "nbformat_minor": 0,
 "worksheets": [
  {
   "cells": [
    {
     "cell_type": "markdown",
     "metadata": {},
     "source": [
      "## Testing the Phase Dependence of Photons\n",
      "\n",
      "The basic idea is to test whether there is any phase dependence in the *photons* of magnetar bursts, based on the fact that they might belong to a fireball.\n",
      "\n",
      "This thing below is a hack: I don't have the entire data set and I don't have the ephemeris or anything, so we're going to do the simple, stupid test: \n",
      "1. get photons for all (or, in this case, many) bursts in Mission Elapsed Time (MET)\n",
      "2. Assign each photon a phase based on the period of the neutron star: 2.0721255s\n",
      "3. phase fold\n",
      "4. plot\n",
      "\n",
      "Bonus bit: separate by energies and see whether the plots are different for different energies\n",
      "\n",
      "### Getting the data out\n",
      "\n",
      "If I had been smart, I would have saved the photon arrival times in MET, but I haven't, so this is going to be a bit annoying."
     ]
    },
    {
     "cell_type": "code",
     "collapsed": false,
     "input": [
      "import numpy as np\n",
      "import glob\n",
      "\n",
      "%matplotlib inline\n",
      "import matplotlib.pyplot as plt\n",
      "import seaborn as sns\n",
      "sns.set_context(\"notebook\", font_scale=2.5, rc={\"axes.labelsize\": 26})\n",
      "plt.rc(\"font\", size=24, family=\"serif\", serif=\"Computer Sans\")\n",
      "plt.rc(\"axes\", titlesize=20, labelsize=20) \n",
      "plt.rc(\"text\", usetex=True)\n"
     ],
     "language": "python",
     "metadata": {},
     "outputs": [],
     "prompt_number": 34
    },
    {
     "cell_type": "code",
     "collapsed": false,
     "input": [
      "datadir = \"./\"\n",
      "eventfiles = glob.glob(datadir+\"*eventfile*.dat\")\n",
      "print(\"%i event files in total.\"%len(eventfiles))"
     ],
     "language": "python",
     "metadata": {},
     "outputs": [
      {
       "output_type": "stream",
       "stream": "stdout",
       "text": [
        "110 event files in total.\n"
       ]
      }
     ],
     "prompt_number": 3
    },
    {
     "cell_type": "markdown",
     "metadata": {},
     "source": [
      "Each file has arrival times, and the MET in the header in a format that's really hard to use. Go figure. There are arrival times and energies. "
     ]
    },
    {
     "cell_type": "code",
     "collapsed": false,
     "input": [
      "\n",
      "data_all = []\n",
      "for d in eventfiles:\n",
      "    ## load the data\n",
      "    data = np.loadtxt(d)\n",
      "    ## load the header\n",
      "    f = open(d, \"r\")\n",
      "    lines = f.readline()\n",
      "    f.close()\n",
      "    ## get MET out of that header line\n",
      "    met = np.float(lines.split()[-1])\n",
      "    data[:,0] += met\n",
      "    data_all.append(data)\n",
      "    \n",
      "## stack all the data together\n",
      "data_new = np.vstack(data_all)"
     ],
     "language": "python",
     "metadata": {},
     "outputs": [],
     "prompt_number": 19
    },
    {
     "cell_type": "markdown",
     "metadata": {},
     "source": [
      "Now we can start fiddling with the data. First, we'll need the start time and the period."
     ]
    },
    {
     "cell_type": "code",
     "collapsed": false,
     "input": [
      "tstart = np.min(data_new[:,0])\n",
      "period = 2.0721255\n",
      "\n",
      "def compute_period(data, tstart, period):\n",
      "    nperiod = (data[:,0]-tstart)/period\n",
      "    phase = (nperiod - np.floor(nperiod))*2.0*np.pi\n",
      "    return phase"
     ],
     "language": "python",
     "metadata": {},
     "outputs": [],
     "prompt_number": 82
    },
    {
     "cell_type": "code",
     "collapsed": false,
     "input": [
      "plt.hist(phase, bins=300);"
     ],
     "language": "python",
     "metadata": {},
     "outputs": [
      {
       "metadata": {},
       "output_type": "display_data",
       "png": "[encoded data removed]",
       "text": [
        "<matplotlib.figure.Figure at 0x12a5c0090>"
       ]
      }
     ],
     "prompt_number": 76
    },
    {
     "cell_type": "markdown",
     "metadata": {},
     "source": [
      "There seems to be something sticking out. Let's separate out the low and the high energies. We'll split at 25 keV, because that seems like a nice number."
     ]
    },
    {
     "cell_type": "code",
     "collapsed": false,
     "input": [
      "esplit = 25.0\n",
      "data_low = data_new[data_new[:,1] < esplit]\n",
      "data_high = data_new[data_new[:,1] > esplit]"
     ],
     "language": "python",
     "metadata": {},
     "outputs": [],
     "prompt_number": 80
    },
    {
     "cell_type": "code",
     "collapsed": false,
     "input": [
      "phase_low = compute_period(data_low, tstart, period)\n",
      "phase_high = compute_period(data_high, tstart, period)\n",
      "\n",
      "fig = plt.figure(figsize=(16,8))\n",
      "ax = fig.add_subplot(121)\n",
      "ax.hist(phase_low, bins=100, histtype=\"stepfilled\")\n",
      "ax2 = fig.add_subplot(122)\n",
      "plt.hist(phase_low, bins=100, histtype=\"stepfilled\")"
     ],
     "language": "python",
     "metadata": {},
     "outputs": [
      {
       "output_type": "stream",
       "stream": "stdout",
       "text": [
        "(1464878, 2)\n",
        "(633263, 2)\n",
        "(831615, 2)\n"
       ]
      }
     ],
     "prompt_number": 81
    },
    {
     "cell_type": "code",
     "collapsed": false,
     "input": [],
     "language": "python",
     "metadata": {},
     "outputs": []
    }
   ],
   "metadata": {}
  }
 ]
}